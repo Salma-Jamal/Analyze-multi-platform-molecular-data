{
  "metadata": {
    "kernelspec": {
      "language": "python",
      "display_name": "Python 3",
      "name": "python3"
    },
    "language_info": {
      "name": "python",
      "version": "3.10.12",
      "mimetype": "text/x-python",
      "codemirror_mode": {
        "name": "ipython",
        "version": 3
      },
      "pygments_lexer": "ipython3",
      "nbconvert_exporter": "python",
      "file_extension": ".py"
    },
    "kaggle": {
      "accelerator": "gpu",
      "dataSources": [],
      "dockerImageVersionId": 30580,
      "isInternetEnabled": true,
      "language": "python",
      "sourceType": "notebook",
      "isGpuEnabled": true
    },
    "colab": {
      "provenance": [],
      "include_colab_link": true
    }
  },
  "nbformat_minor": 0,
  "nbformat": 4,
  "cells": [
    {
      "cell_type": "markdown",
      "metadata": {
        "id": "view-in-github",
        "colab_type": "text"
      },
      "source": [
        "<a href=\"https://colab.research.google.com/github/Salma-Jamal/Analyze-multi-platform-molecular-data/blob/main/Specialized-Chatbot/open_chat.ipynb\" target=\"_parent\"><img src=\"https://colab.research.google.com/assets/colab-badge.svg\" alt=\"Open In Colab\"/></a>"
      ]
    },
    {
      "cell_type": "markdown",
      "source": [
        "## Required Packages"
      ],
      "metadata": {
        "execution": {
          "iopub.status.busy": "2023-11-12T17:37:30.836484Z",
          "iopub.execute_input": "2023-11-12T17:37:30.836877Z",
          "iopub.status.idle": "2023-11-12T17:37:30.841592Z",
          "shell.execute_reply.started": "2023-11-12T17:37:30.836838Z",
          "shell.execute_reply": "2023-11-12T17:37:30.840631Z"
        },
        "id": "WlIR2KWsROEv"
      }
    },
    {
      "cell_type": "code",
      "source": [
        "!pip install llama-index transformers accelerate bitsandbytes\n",
        "!pip install git+https://github.com/huggingface/transformers.git\n",
        "!pip install accelerate"
      ],
      "metadata": {
        "execution": {
          "iopub.status.idle": "2023-11-13T19:02:05.314618Z",
          "shell.execute_reply.started": "2023-11-13T19:00:31.375318Z",
          "shell.execute_reply": "2023-11-13T19:02:05.313494Z"
        },
        "trusted": true,
        "id": "YTDxQvrTROE6"
      },
      "execution_count": null,
      "outputs": []
    },
    {
      "cell_type": "markdown",
      "source": [
        "## Model"
      ],
      "metadata": {
        "id": "JCTuoM2hROFA"
      }
    },
    {
      "cell_type": "code",
      "source": [
        "import torch\n",
        "from transformers import pipeline\n",
        "\n",
        "pipe = pipeline(\"text-generation\", model=\"openchat/openchat_3.5\", torch_dtype=torch.bfloat16, device_map=\"auto\")\n"
      ],
      "metadata": {
        "execution": {
          "iopub.status.busy": "2023-11-13T19:02:05.316569Z",
          "iopub.execute_input": "2023-11-13T19:02:05.316902Z",
          "iopub.status.idle": "2023-11-13T19:04:18.065556Z",
          "shell.execute_reply.started": "2023-11-13T19:02:05.316873Z",
          "shell.execute_reply": "2023-11-13T19:04:18.064485Z"
        },
        "trusted": true,
        "id": "zbTWQPJeROFC"
      },
      "execution_count": null,
      "outputs": []
    },
    {
      "cell_type": "markdown",
      "source": [
        "## Example Prompts"
      ],
      "metadata": {
        "id": "sxiC9xynROFD"
      }
    },
    {
      "cell_type": "markdown",
      "source": [
        "### Prompt 1"
      ],
      "metadata": {
        "id": "6H7tuI4eROFE"
      }
    },
    {
      "cell_type": "code",
      "source": [
        "messages = [\n",
        "    {\n",
        "        \"role\": \"system\",\n",
        "        \"content\": \"You are a Intixel medical AI applications company chatbot. who always responds in a polite way to users questions\",\n",
        "    },\n",
        "    {\"role\": \"user\", \"content\": \"What is your company field?\"},\n",
        "]\n",
        "prompt = pipe.tokenizer.apply_chat_template(messages, tokenize=False, add_generation_prompt=True)\n",
        "outputs = pipe(prompt, max_new_tokens=256, do_sample=True, temperature=0.7, top_k=50, top_p=0.95)\n",
        "print(outputs[0][\"generated_text\"])"
      ],
      "metadata": {
        "execution": {
          "iopub.status.busy": "2023-11-13T19:09:57.125441Z",
          "iopub.execute_input": "2023-11-13T19:09:57.126332Z",
          "iopub.status.idle": "2023-11-13T19:10:09.580945Z",
          "shell.execute_reply.started": "2023-11-13T19:09:57.126293Z",
          "shell.execute_reply": "2023-11-13T19:10:09.579908Z"
        },
        "trusted": true,
        "id": "gd-33heFROFE"
      },
      "execution_count": null,
      "outputs": []
    },
    {
      "cell_type": "code",
      "source": [
        "outputs[0][\"generated_text\"].split('[/INST]')[1]"
      ],
      "metadata": {
        "execution": {
          "iopub.status.busy": "2023-11-13T19:13:41.416928Z",
          "iopub.execute_input": "2023-11-13T19:13:41.417323Z",
          "iopub.status.idle": "2023-11-13T19:13:41.424066Z",
          "shell.execute_reply.started": "2023-11-13T19:13:41.417288Z",
          "shell.execute_reply": "2023-11-13T19:13:41.423126Z"
        },
        "trusted": true,
        "id": "rCbovcp1ROFF"
      },
      "execution_count": null,
      "outputs": []
    },
    {
      "cell_type": "markdown",
      "source": [
        "### Prompt 2"
      ],
      "metadata": {
        "id": "goKD_7ouROFF"
      }
    },
    {
      "cell_type": "code",
      "source": [
        "messages = [\n",
        "    {\n",
        "        \"role\": \"system\",\n",
        "        \"content\": \"You are a Intixel medical AI applications company chatbot. The company has three products: AIRA Breast, Hayaty and AIRA Cardiac\",\n",
        "    },\n",
        "    {\"role\": \"user\",\n",
        "     \"content\": \"Do you have a product related to Breast Cancer?\"},\n",
        "\n",
        "    {\"role\": \"system\",\n",
        "     \"content\": \"Which product is the user asking about?\"}\n",
        "]\n",
        "prompt = pipe.tokenizer.apply_chat_template(messages, tokenize=False, add_generation_prompt=True)\n",
        "outputs = pipe(prompt, max_new_tokens=256, do_sample=True, temperature=0.7, top_k=50, top_p=0.95)\n",
        "print(outputs[0][\"generated_text\"])"
      ],
      "metadata": {
        "execution": {
          "iopub.status.busy": "2023-11-13T19:22:27.307768Z",
          "iopub.execute_input": "2023-11-13T19:22:27.308151Z",
          "iopub.status.idle": "2023-11-13T19:22:39.920772Z",
          "shell.execute_reply.started": "2023-11-13T19:22:27.308121Z",
          "shell.execute_reply": "2023-11-13T19:22:39.919875Z"
        },
        "trusted": true,
        "id": "Ob7-Y143ROFG"
      },
      "execution_count": null,
      "outputs": []
    },
    {
      "cell_type": "code",
      "source": [
        "outputs[0][\"generated_text\"].split('[/INST]')[1].split('<</SYS>>')[1]"
      ],
      "metadata": {
        "execution": {
          "iopub.status.busy": "2023-11-13T19:24:49.582182Z",
          "iopub.execute_input": "2023-11-13T19:24:49.582925Z",
          "iopub.status.idle": "2023-11-13T19:24:49.589061Z",
          "shell.execute_reply.started": "2023-11-13T19:24:49.582891Z",
          "shell.execute_reply": "2023-11-13T19:24:49.588146Z"
        },
        "trusted": true,
        "id": "YBxHLiRwROFH"
      },
      "execution_count": null,
      "outputs": []
    },
    {
      "cell_type": "markdown",
      "source": [
        "### Prompt 3"
      ],
      "metadata": {
        "id": "1WEQhI7DROFI"
      }
    },
    {
      "cell_type": "code",
      "source": [
        "messages = [\n",
        "    {\n",
        "        \"role\": \"system\",\n",
        "        \"content\": \"You are a Intixel medical AI applications company chatbot. The company has three products: AIRA Breast, Hayaty and AIRA Cardiac\",\n",
        "    },\n",
        "    {\"role\": \"user\",\n",
        "     \"content\": \"Do you have a product related to Breast Cancer?\"},\n",
        "\n",
        "    {\"role\": \"system\",\n",
        "     \"content\": \"Which product is the user asking about? respond with the product name only\"}\n",
        "]\n",
        "prompt = pipe.tokenizer.apply_chat_template(messages, tokenize=False, add_generation_prompt=True)\n",
        "outputs = pipe(prompt, max_new_tokens=256, do_sample=True, temperature=0.7, top_k=50, top_p=0.95)\n",
        "print(outputs[0][\"generated_text\"])"
      ],
      "metadata": {
        "execution": {
          "iopub.status.busy": "2023-11-13T19:25:06.742996Z",
          "iopub.execute_input": "2023-11-13T19:25:06.743769Z",
          "iopub.status.idle": "2023-11-13T19:25:19.371708Z",
          "shell.execute_reply.started": "2023-11-13T19:25:06.743736Z",
          "shell.execute_reply": "2023-11-13T19:25:19.370789Z"
        },
        "trusted": true,
        "id": "MBreeQKfROFI"
      },
      "execution_count": null,
      "outputs": []
    },
    {
      "cell_type": "code",
      "source": [
        "outputs[0][\"generated_text\"].split('[/INST]')[1].split('<</SYS>>')[1]"
      ],
      "metadata": {
        "execution": {
          "iopub.status.busy": "2023-11-13T19:26:03.174784Z",
          "iopub.execute_input": "2023-11-13T19:26:03.175511Z",
          "iopub.status.idle": "2023-11-13T19:26:03.181799Z",
          "shell.execute_reply.started": "2023-11-13T19:26:03.175480Z",
          "shell.execute_reply": "2023-11-13T19:26:03.180770Z"
        },
        "trusted": true,
        "id": "n7a_dxo0ROFJ"
      },
      "execution_count": null,
      "outputs": []
    },
    {
      "cell_type": "markdown",
      "source": [
        "## Experimental Design"
      ],
      "metadata": {
        "id": "NEiNEpeuROFK"
      }
    },
    {
      "cell_type": "code",
      "source": [
        "general = \"\"\"Intixel is one of the leading artificial intelligence in radiology company at the forefront of healthcare innovation. Founded with a vision to revolutionize radiology, we specialize in developing state-of-the-art AI solutions that empower radiologists and improve patient outcomes. Our core focus is on providing radiologists with the maximum and most relevant information, ensuring accurate diagnoses and enhanced efficiency. With our flagship product line, Intixel AIRA, we seamlessly integrate AI into radiology workflows, offering fully automated analysis, draft reports, continuous learning, and automated triage. At Intixel, we are committed to making a positive impact on the world of healthcare through the power of AI. Headquartered in Cairo, Egypt, Intixel operates at the intersection of technology and healthcare. We are dedicated to leveraging the power of AI to make a positive and lasting impact on the global healthcare landscape. For further inquiries, please feel free to reach out to us. You can find our contact information on our website: https://www.intixel.com/. Alternatively, connect with us via phone at +201063561789 or drop us an email at Contact@intixel.com.\"\"\"\n",
        "\n",
        "mission = \"\"\"To harness the potential of artificial intelligence to benefit patients and healthcare providers. We are dedicated to providing radiologists with an automated second-eye opinion, reducing wrong diagnoses, boosting productivity, and supporting the fight against disease progression. Through our AI solutions, we aim to revolutionize radiology practices, ensuring that every patient receives the best possible care.\"\"\"\n",
        "\n",
        "vision = \"\"\"To usher in a new era of radiology by empowering radiologists with precise, timely, and comprehensive information. We aspire to see a world where artificial intelligence elevates the capabilities of radiologists, enabling them to deliver diagnoses that are not only more accurate but also efficiently obtained. Through tireless innovation and unwavering commitment, we seek to redefine the very benchmark of radiology, ultimately enhancing patient care and outcomes.\"\"\"\n",
        "\n",
        "products = \"\"\"Company's main product line is Intixel AIRA; it is seamlessly integrating with the PACS system lying in most of the hospitals and supplying initial diagnosis markups and draft reports to the image data flowing from the imaging modality with no protocol interruption. Also, Intixel is focusing on supporting other medical image analysis vendors/companies by AI solutions with high integrability. AIRA; has five active products Aira breast, AIRA Cardiac, HAYATY (women's health tracking), Triage Net (Related to COVID-19 pandemic) and AIRA Chest\"\"\"\n",
        "\n",
        "Aira_breast = \"\"\"AIRABreast, it is Intixel’s mammography solution to aid the radiologist with a more accurate interpretation of breast tissue composition and suspected lesions like Masses and Calcifications.\"\"\"\n",
        "\n",
        "AIRACardiac = \"\"\"AIRACardiac, it is a fully automated left and right ventricles segmentation method for both short-axis and long-axis views. Our technology is empowered by deep learning algorithms and was validated against different cardiac segmentation challenges.\"\"\"\n",
        "\n",
        "HAYATY = \"\"\"HAYATY, it is Intixel’s mobile application for women's health tracking and raising awareness about breast cancer risk factors and symptoms.\"\"\"\n",
        "\n",
        "TriageNet = \"\"\"TriageNet, it is a web-portal designed during COVID19 to enable physician perform tasks and track patients status following the up-to-date and continuously changing instructed protocol by CDC or governments. The app also helps healthcare professionals manage scarce medical resource.\"\"\"\n",
        "\n",
        "AIRAChest = \"\"\"AIRAChest application, it is designated features include detection of 12 different Lung abnormalities such as Cardiomegaly, Atelectasis, Masses, and Pneumothorax. Also, Image contrast enhancement, structural focus, and structure suppression are available.\"\"\"\n"
      ],
      "metadata": {
        "execution": {
          "iopub.status.busy": "2023-11-13T19:27:10.457963Z",
          "iopub.execute_input": "2023-11-13T19:27:10.458360Z",
          "iopub.status.idle": "2023-11-13T19:27:10.465919Z",
          "shell.execute_reply.started": "2023-11-13T19:27:10.458332Z",
          "shell.execute_reply": "2023-11-13T19:27:10.464976Z"
        },
        "trusted": true,
        "id": "BogvwCl7ROFK"
      },
      "execution_count": null,
      "outputs": []
    },
    {
      "cell_type": "code",
      "source": [
        "def get_model_response(promt_message,max_tokens = 256, temp = 0.7 ):\n",
        "    \"\"\"\n",
        "    \"\"\"\n",
        "    prompt = pipe.tokenizer.apply_chat_template(promt_message, tokenize=False, add_generation_prompt=True)\n",
        "    outputs = pipe(prompt, max_new_tokens=max_tokens, do_sample=True, temperature=temp, top_k=50, top_p=0.95)\n",
        "    response = outputs[0][\"generated_text\"].split('<|assistant|>\\n')[1]\n",
        "\n",
        "    return response"
      ],
      "metadata": {
        "execution": {
          "iopub.status.busy": "2023-11-13T19:28:36.317119Z",
          "iopub.execute_input": "2023-11-13T19:28:36.317628Z",
          "iopub.status.idle": "2023-11-13T19:28:36.323526Z",
          "shell.execute_reply.started": "2023-11-13T19:28:36.317590Z",
          "shell.execute_reply": "2023-11-13T19:28:36.322510Z"
        },
        "trusted": true,
        "id": "jBkit7R2ROFM"
      },
      "execution_count": null,
      "outputs": []
    },
    {
      "cell_type": "code",
      "source": [
        "def clean(text):\n",
        "    text = text.replace('[INST]','')\n",
        "    text = text.replace('<<SYS>>','')\n",
        "    text = text.replace('[/INST]','')\n",
        "    text = text.replace('<</SYS>>','')\n",
        "    text = text.replace('<</INST>>','')\n",
        "    text = text.replace('<<INST>>','')\n",
        "    return text.strip()"
      ],
      "metadata": {
        "execution": {
          "iopub.status.busy": "2023-11-13T19:38:34.266790Z",
          "iopub.execute_input": "2023-11-13T19:38:34.267496Z",
          "iopub.status.idle": "2023-11-13T19:38:34.273026Z",
          "shell.execute_reply.started": "2023-11-13T19:38:34.267463Z",
          "shell.execute_reply": "2023-11-13T19:38:34.271959Z"
        },
        "trusted": true,
        "id": "2dJK9IzMROFN"
      },
      "execution_count": null,
      "outputs": []
    },
    {
      "cell_type": "code",
      "source": [
        "def aboutQuestions(text,Category):\n",
        "    \"\"\"\n",
        "    \"\"\"\n",
        "\n",
        "#     beg = \"\"\"instruction: You are a sophisticated chatbot, representing a top-tier artificial intelligence company (Intixel) specializing in radiology. Your mission is to respond to user inquiries with utmost politeness and professionalism.\\n\"\"\"\n",
        "    beg = \"\"\"instruction: You are the voice of Intixel, a sophisticated chatbot representing a top-tier artificial intelligence company specializing in radiology. Your mission is to respond to user inquiries with utmost politeness and professionalism.\\n\"\"\"\n",
        "    end = \"\\nCraft responses that reflect it.\"\n",
        "\n",
        "    if Category == \"M\":\n",
        "        messages = [\n",
        "            {\n",
        "                \"role\": \"system\",\n",
        "                \"content\": beg + \"Intixel's Mission is \" + mission + end\n",
        "            },\n",
        "            {\n",
        "                \"role\": \"user\",\n",
        "                \"content\": text\n",
        "            },]\n",
        "\n",
        "\n",
        "        response = get_model_response(messages)\n",
        "        response = response.split('[/INST]')[1].replace('\\n',' ')\n",
        "        response = clean(response)\n",
        "        return response\n",
        "\n",
        "    elif Category == \"V\":\n",
        "        messages = [\n",
        "            {\n",
        "                \"role\": \"system\",\n",
        "                \"content\": beg + \"Intixel's Vision is \" + vision + end\n",
        "            },\n",
        "            {\n",
        "                \"role\": \"user\",\n",
        "                \"content\": text\n",
        "            }]\n",
        "\n",
        "\n",
        "        response = get_model_response(messages)\n",
        "        response = response.split('[/INST]')[1].replace('\\n',' ')\n",
        "        response = clean(response)\n",
        "        return response\n",
        "\n",
        "    elif Category == \"G\":\n",
        "        messages = [\n",
        "            {\n",
        "                \"role\": \"system\",\n",
        "                \"content\": beg + general + end\n",
        "            },\n",
        "            {\n",
        "                \"role\": \"user\",\n",
        "                \"content\": text\n",
        "            },]\n",
        "\n",
        "        response = get_model_response(messages)\n",
        "        response = response.split('[/INST]')[1].replace('\\n',' ')\n",
        "        response = clean(response)\n",
        "        return response\n",
        "\n",
        "\n",
        "\n"
      ],
      "metadata": {
        "execution": {
          "iopub.status.busy": "2023-11-13T19:38:37.847650Z",
          "iopub.execute_input": "2023-11-13T19:38:37.848536Z",
          "iopub.status.idle": "2023-11-13T19:38:37.858422Z",
          "shell.execute_reply.started": "2023-11-13T19:38:37.848501Z",
          "shell.execute_reply": "2023-11-13T19:38:37.857397Z"
        },
        "trusted": true,
        "id": "8bck5GJ1ROFN"
      },
      "execution_count": null,
      "outputs": []
    },
    {
      "cell_type": "code",
      "source": [
        "out = aboutQuestions(\"what is the company's vision?\", 'V')"
      ],
      "metadata": {
        "execution": {
          "iopub.status.busy": "2023-11-13T19:38:40.450182Z",
          "iopub.execute_input": "2023-11-13T19:38:40.450620Z",
          "iopub.status.idle": "2023-11-13T19:38:53.437880Z",
          "shell.execute_reply.started": "2023-11-13T19:38:40.450581Z",
          "shell.execute_reply": "2023-11-13T19:38:53.437084Z"
        },
        "trusted": true,
        "id": "lcJ_E_RhROFO"
      },
      "execution_count": null,
      "outputs": []
    },
    {
      "cell_type": "code",
      "source": [
        "out"
      ],
      "metadata": {
        "execution": {
          "iopub.status.busy": "2023-11-13T19:38:53.439274Z",
          "iopub.execute_input": "2023-11-13T19:38:53.439557Z",
          "iopub.status.idle": "2023-11-13T19:38:53.445246Z",
          "shell.execute_reply.started": "2023-11-13T19:38:53.439532Z",
          "shell.execute_reply": "2023-11-13T19:38:53.444416Z"
        },
        "trusted": true,
        "id": "EFFBN8pwROFO"
      },
      "execution_count": null,
      "outputs": []
    },
    {
      "cell_type": "code",
      "source": [
        "def multipleOrSingle(text):\n",
        "    \"\"\"\n",
        "    \"\"\"\n",
        "    messages = [\n",
        "        {\n",
        "            \"role\": \"system\",\n",
        "            \"content\": \"\"\"You are a Robot that takes as an input a question from the user and respond with it's category either 'YES' to indicate that the user is asking a question about more than one product or 'NO' otherwise Use the examples below to help you.\n",
        "            Examples:\n",
        "            Q: Do you have products related to breast cancer or chest diseases?\n",
        "            A: YES\n",
        "            The user question is asking about two products one related to breast cancer and one related to chest disease. So, the answer is YES.\n",
        "\n",
        "            Q: Do you have products related to Women's health or melanoma disease?\n",
        "            A: YES\n",
        "            The user is asking about more than one product, one related to women's health and the other related to melanoma disease. So, the answer is YES.\n",
        "\n",
        "            Q: Is there a product related to breast cancer?\n",
        "            A: NO\n",
        "            The user is asking about only one product related to breast cancer. So, the answer is NO.\n",
        "\n",
        "            Q: Is there a product related to cardiology?\n",
        "            A: NO\n",
        "            The user is asking about only one product related to cardiology. So, the answer is NO.\n",
        "\n",
        "            Respond with the word YES or NO only.\n",
        "            \"\"\"\n",
        "\n",
        "        },\n",
        "        {\n",
        "            \"role\": \"user\",\n",
        "            \"content\": \"Categorize my question into YES or NO: \"+text\n",
        "        },\n",
        "    ]\n",
        "\n",
        "    response = get_model_response(messages)\n",
        "\n",
        "    if 'yes' in response.lower():\n",
        "        print('Multiple products')\n",
        "        response = MultiProductsQuestion(text)\n",
        "\n",
        "    elif 'no' in response.lower():\n",
        "        print('Single Product')\n",
        "        response = productsQuestion(text)\n",
        "\n",
        "    else:\n",
        "        flag = True\n",
        "        while flag:\n",
        "            response = get_model_response(messages)\n",
        "            if 'yes' in response.lower():\n",
        "                print('Multiple products')\n",
        "                response = MultiProductsQuestion(text)\n",
        "                flag = False\n",
        "            elif 'no' in response.lower():\n",
        "                print('Single product')\n",
        "                response = productsQuestion(text)\n",
        "                flag = False\n",
        "\n",
        "    return response"
      ],
      "metadata": {
        "execution": {
          "iopub.status.busy": "2023-11-13T18:18:27.179921Z",
          "iopub.execute_input": "2023-11-13T18:18:27.180773Z",
          "iopub.status.idle": "2023-11-13T18:18:27.189412Z",
          "shell.execute_reply.started": "2023-11-13T18:18:27.180742Z",
          "shell.execute_reply": "2023-11-13T18:18:27.188488Z"
        },
        "trusted": true,
        "id": "T4MsOAuoROFP"
      },
      "execution_count": null,
      "outputs": []
    },
    {
      "cell_type": "code",
      "source": [
        "def typeOfProducts(text):\n",
        "    \"\"\"\n",
        "    \"\"\"\n",
        "    keywords = ['covid', 'covid19', 'covid 19', 'breast', 'breast cancer', 'cancer', 'chest', 'cardiology', \"women's health\", \"womens health\", \"womens health tracking\", 'health traking']\n",
        "\n",
        "    response = \"\"\n",
        "\n",
        "    if any(keyword.lower() in text.lower() for keyword in keywords):\n",
        "        response = \"no\"\n",
        "\n",
        "\n",
        "    else:\n",
        "\n",
        "        beg = \"\"\"instruction: You are the voice of Intixel, a sophisticated chatbot representing a top-tier artificial intelligence company specializing in radiology. Your mission is to respond to user inquiries with utmost politeness and professionalism.\\n\"\"\"\n",
        "\n",
        "        messages = [\n",
        "            {\n",
        "                \"role\": \"system\",\n",
        "                \"content\": \"\"\"You are a chatbot for Intixel company that responds with either 'YES' indicate if the user's question is a general question or 'NO' otherwise.\n",
        "                Example:\n",
        "                Q: Does the company have products?\n",
        "                A: The user question is general and not asking about a specific product so, the answer is YES.\n",
        "\n",
        "                Q: Is there a product related to breast cancer?\n",
        "                A: The user question is not general, it's asking about a specific product so, the answer is NO.\n",
        "\n",
        "\n",
        "                Respond with the word YES or NO only.\n",
        "                \"\"\"\n",
        "\n",
        "            },\n",
        "            {\n",
        "                \"role\": \"user\",\n",
        "                \"content\": \"Categorize my question \" + text\n",
        "            },]\n",
        "\n",
        "        response = get_model_response(messages)\n",
        "\n",
        "        if 'yes' in response.lower():\n",
        "            response = 'yes'\n",
        "\n",
        "        elif 'no' in response.lower():\n",
        "            response = 'no'\n",
        "\n",
        "        else:\n",
        "            flag = True\n",
        "            while flag:\n",
        "                response = get_model_response(messages)\n",
        "                if 'yes' in response.lower():\n",
        "                    response = 'yes'\n",
        "                    flag = False\n",
        "                elif 'no' in response.lower():\n",
        "                    response = 'no'\n",
        "                    flag = False\n",
        "\n",
        "    if response == \"yes\":\n",
        "        print(\"General\")\n",
        "        messages = [\n",
        "            {\n",
        "                \"role\": \"system\",\n",
        "                \"content\": beg  + products\n",
        "            },\n",
        "            {\n",
        "                \"role\": \"user\",\n",
        "                \"content\": text\n",
        "            },]\n",
        "\n",
        "\n",
        "        response = get_model_response(messages)\n",
        "\n",
        "    elif response == \"no\":\n",
        "        print(\"Specific\")\n",
        "        response = multipleOrSingle(text)\n",
        "\n",
        "    return response\n",
        "\n",
        "\n",
        ""
      ],
      "metadata": {
        "execution": {
          "iopub.status.busy": "2023-11-13T18:18:27.618270Z",
          "iopub.execute_input": "2023-11-13T18:18:27.618632Z",
          "iopub.status.idle": "2023-11-13T18:18:27.629537Z",
          "shell.execute_reply.started": "2023-11-13T18:18:27.618603Z",
          "shell.execute_reply": "2023-11-13T18:18:27.628525Z"
        },
        "trusted": true,
        "id": "_HqR_V6ZROFQ"
      },
      "execution_count": null,
      "outputs": []
    },
    {
      "cell_type": "code",
      "source": [
        "def MultiProductsQuestion(text):\n",
        "    \"\"\"\n",
        "    \"\"\"\n",
        "\n",
        "    flag_breast, flag_chest, flag_card, flag_cov, flag_wh= False, False, False, False, False\n",
        "\n",
        "    messages = [\n",
        "             {\"role\": \"system\",\n",
        "                \"content\": \"You are Intixel medical AI applications company chatbot. \" + products\n",
        "             },\n",
        "\n",
        "             {\"role\": \"user\",\n",
        "             \"content\": text\n",
        "             },\n",
        "\n",
        "            {\"role\": \"system\",\n",
        "             \"content\": \"\"\"instruction: You are allowed to respond with the product name ONLY.\n",
        "             Which product is the user asking about? You can choose more than one product from the five active products.\n",
        "             \"\"\"\n",
        "            }]\n",
        "\n",
        "    response = get_model_response(messages)\n",
        "\n",
        "    if \"aira chest\" in response.lower():\n",
        "        flag_chest = True\n",
        "    if \"aira breast\" in response.lower():\n",
        "        flag_breast = True\n",
        "    if \"hayaty\" in response:\n",
        "        flag_wh = True\n",
        "    if \"aira cardiac\" in response.lower():\n",
        "        flag_card = True\n",
        "    if \"triage net\" in response.lower():\n",
        "        flag_cov = True\n",
        "\n",
        "\n",
        "\n",
        "    beg = \"\"\"instruction: You are the voice of Intixel, a sophisticated chatbot representing a top-tier artificial intelligence company specializing in radiology. Your mission is to respond to user inquiries with utmost politeness and professionalism.\\n\"\"\"\n",
        "    end = \"\\nCraft responses that reflect them.\"\n",
        "\n",
        "\n",
        "    context = beg + \"Intixel company has several products like: \"\n",
        "    content_products = [Aira_breast,AIRAChest,AIRACardiac,TriageNet,HAYATY]\n",
        "\n",
        "    c = 0\n",
        "    for i,fl in enumerate([flag_breast, flag_chest, flag_card, flag_cov, flag_wh]):\n",
        "        if fl:\n",
        "            if c == 0:\n",
        "                context = context + content_products[i]\n",
        "                c+=1\n",
        "            else:\n",
        "                context = context + \" And also, \" + content_products[i]\n",
        "    context = context + end\n",
        "\n",
        "\n",
        "    messages = [\n",
        "                {\n",
        "                \"role\": \"system\",\n",
        "                \"content\": context\n",
        "                },\n",
        "\n",
        "                {\"role\": \"user\",\n",
        "                 \"content\": text\n",
        "                }]\n",
        "    response = get_model_response(messages,max_tokens = 300)\n",
        "    return response"
      ],
      "metadata": {
        "execution": {
          "iopub.status.busy": "2023-11-13T18:41:26.474383Z",
          "iopub.execute_input": "2023-11-13T18:41:26.474813Z",
          "iopub.status.idle": "2023-11-13T18:41:26.485839Z",
          "shell.execute_reply.started": "2023-11-13T18:41:26.474781Z",
          "shell.execute_reply": "2023-11-13T18:41:26.484779Z"
        },
        "trusted": true,
        "id": "nLz-gD1KROFR"
      },
      "execution_count": null,
      "outputs": []
    },
    {
      "cell_type": "code",
      "source": [
        "x = productsQuestion(\"Do you have a product related to chest?\")\n",
        "x"
      ],
      "metadata": {
        "execution": {
          "iopub.status.busy": "2023-11-13T19:41:07.806308Z",
          "iopub.execute_input": "2023-11-13T19:41:07.806687Z",
          "iopub.status.idle": "2023-11-13T19:41:21.066375Z",
          "shell.execute_reply.started": "2023-11-13T19:41:07.806655Z",
          "shell.execute_reply": "2023-11-13T19:41:21.065424Z"
        },
        "trusted": true,
        "id": "GRw59A5uROFS"
      },
      "execution_count": null,
      "outputs": []
    },
    {
      "cell_type": "code",
      "source": [
        "x"
      ],
      "metadata": {
        "execution": {
          "iopub.status.busy": "2023-11-13T19:40:57.619929Z",
          "iopub.execute_input": "2023-11-13T19:40:57.620775Z",
          "iopub.status.idle": "2023-11-13T19:40:57.624520Z",
          "shell.execute_reply.started": "2023-11-13T19:40:57.620736Z",
          "shell.execute_reply": "2023-11-13T19:40:57.623647Z"
        },
        "trusted": true,
        "id": "rtZpSxWGROFS"
      },
      "execution_count": null,
      "outputs": []
    },
    {
      "cell_type": "code",
      "source": [
        "def productsQuestion(text):\n",
        "    \"\"\"\n",
        "    \"\"\"\n",
        "\n",
        "    beg = \"\"\"instruction: You are the voice of Intixel, a sophisticated chatbot representing a top-tier artificial intelligence company specializing in radiology. Your mission is to respond to user inquiries with utmost politeness and professionalism.\\n\"\"\"\n",
        "    end = \"\\nCraft responses that reflect it.\"\n",
        "\n",
        "    messages = [ {\n",
        "        \"role\": \"system\",\n",
        "        \"content\": \"You are Intixel medical AI applications company chatbot. \" + products\n",
        "    },\n",
        "\n",
        "    {\"role\": \"user\",\n",
        "     \"content\": text\n",
        "    },\n",
        "\n",
        "    {\"role\": \"system\",\n",
        "     \"content\": \"\"\"instruction: You are allowed to respond with the product name ONLY.\n",
        "     Which product is the user asking about? choose one of the five active products.\n",
        "     \"\"\"\n",
        "    }]\n",
        "\n",
        "    response = get_model_response(messages)\n",
        "\n",
        "    if response == \"AIRA Chest\":\n",
        "        messages = [\n",
        "                {\n",
        "                \"role\": \"system\",\n",
        "                \"content\": beg + \"One of your products is: \" + AIRAChest + end\n",
        "                },\n",
        "\n",
        "                {\"role\": \"user\",\n",
        "                 \"content\": text\n",
        "                }]\n",
        "        response = get_model_response(messages)\n",
        "        return response\n",
        "\n",
        "    elif response == \"Aira breast\":\n",
        "        messages = [\n",
        "               {\n",
        "                \"role\": \"system\",\n",
        "                \"content\": beg + \"One of your flagship products is: \" + Aira_breast + end\n",
        "                },\n",
        "\n",
        "                {\"role\": \"user\",\n",
        "                 \"content\": text\n",
        "                }]\n",
        "        response = get_model_response(messages)\n",
        "        return response\n",
        "\n",
        "    elif response == \"HAYATY\":\n",
        "        messages = [\n",
        "                {\n",
        "                \"role\": \"system\",\n",
        "                \"content\": beg + \"One of your products is: \" + HAYATY + end\n",
        "                },\n",
        "\n",
        "                {\"role\": \"user\",\n",
        "                 \"content\": text\n",
        "                }]\n",
        "        response = get_model_response(messages)\n",
        "        return response\n",
        "\n",
        "\n",
        "    elif response == \"AIRA Cardiac\":\n",
        "        messages = [\n",
        "               {\n",
        "                \"role\": \"system\",\n",
        "                \"content\": beg + \"One of your products is: \" + AIRACardiac + end\n",
        "                },\n",
        "\n",
        "                {\"role\": \"user\",\n",
        "                 \"content\": text\n",
        "                }]\n",
        "        response = get_model_response(messages)\n",
        "        return response\n",
        "\n",
        "    elif response == \"Triage Net\":\n",
        "        messages = [\n",
        "                {\n",
        "                \"role\": \"system\",\n",
        "                \"content\": beg + \"One of your products is: \" + TriageNet + end\n",
        "                },\n",
        "\n",
        "                {\"role\": \"user\",\n",
        "                 \"content\": text\n",
        "                }]\n",
        "        response = get_model_response(messages)\n",
        "        return response\n",
        "\n",
        "\n",
        "\n"
      ],
      "metadata": {
        "execution": {
          "iopub.status.busy": "2023-11-13T19:40:10.766790Z",
          "iopub.execute_input": "2023-11-13T19:40:10.767782Z",
          "iopub.status.idle": "2023-11-13T19:40:10.778698Z",
          "shell.execute_reply.started": "2023-11-13T19:40:10.767739Z",
          "shell.execute_reply": "2023-11-13T19:40:10.777709Z"
        },
        "trusted": true,
        "id": "fRwTPGgXROFS"
      },
      "execution_count": null,
      "outputs": []
    },
    {
      "cell_type": "code",
      "source": [
        "def start(text):\n",
        "    \"\"\"\n",
        "    \"\"\"\n",
        "    response = \"\"\n",
        "    messages = [\n",
        "            {\n",
        "                \"role\": \"system\",\n",
        "                \"content\": \"\"\"Please choose a category for the user question about Intixel (Respond using only the LETTER M, V, G, or P):\n",
        "                    M: Company's Mission\n",
        "                    V: Company's Vision\n",
        "                    G: General Question about company\n",
        "                    P: Company's Products or Applications\n",
        "\n",
        "                    Example:\n",
        "                    Q: Does the company have products?\n",
        "                    A: P\n",
        "                    The user question is a question about the company's products so, the answer is P\n",
        "\n",
        "                    Q: What is the field of the company?\n",
        "                    A: G\n",
        "                    The user question is a general question about the company so, the answer is G\n",
        "\n",
        "                    Q: What is the mission of the company?\n",
        "                    A: M\n",
        "                    The user question is a question about the company's mission or aim so, the answer is M\n",
        "\n",
        "                    Q: how does your organization envision to making a positive impact on the world?\n",
        "                    A: V\n",
        "                    The user question is a question about the company's vision so, the answer is V\"\"\"\n",
        "            },\n",
        "            {\n",
        "                \"role\": \"user\",\n",
        "                \"content\": \"Output the letter representing my question category \"+text\n",
        "            }, ]\n",
        "\n",
        "    if (\"product\" or \"products\" or \"application\") in text.lower():\n",
        "        response = \"P\"\n",
        "    else:\n",
        "        response = get_model_response(messages,max_tokens =1,temp = 0.7)\n",
        "        while response not in [\"G\", \"M\",\"V\",\"P\"]:\n",
        "            response = get_model_response(messages, max_tokens=1, temp=0.7)\n",
        "    print(response)\n",
        "\n",
        "    if response == \"V\" or response == \"M\" or response == \"G\":\n",
        "        model_question_response = aboutQuestions(text,response)\n",
        "        print(model_question_response)\n",
        "    elif response == \"P\":\n",
        "        model_question_response = typeOfProducts(text)\n",
        "        print(model_question_response)"
      ],
      "metadata": {
        "execution": {
          "iopub.status.busy": "2023-11-13T18:18:29.524384Z",
          "iopub.execute_input": "2023-11-13T18:18:29.524753Z",
          "iopub.status.idle": "2023-11-13T18:18:29.534265Z",
          "shell.execute_reply.started": "2023-11-13T18:18:29.524713Z",
          "shell.execute_reply": "2023-11-13T18:18:29.533263Z"
        },
        "trusted": true,
        "id": "2FY4eboCROFT"
      },
      "execution_count": null,
      "outputs": []
    },
    {
      "cell_type": "code",
      "source": [
        "## Does the company have a global presence?\n",
        "user_text = input()\n",
        "start(user_text)"
      ],
      "metadata": {
        "execution": {
          "iopub.status.busy": "2023-11-13T14:00:44.544085Z",
          "iopub.execute_input": "2023-11-13T14:00:44.544486Z",
          "iopub.status.idle": "2023-11-13T14:01:28.089835Z",
          "shell.execute_reply.started": "2023-11-13T14:00:44.544457Z",
          "shell.execute_reply": "2023-11-13T14:01:28.088865Z"
        },
        "trusted": true,
        "id": "8E3q7OhrROFU"
      },
      "execution_count": null,
      "outputs": []
    },
    {
      "cell_type": "code",
      "source": [
        "## What is the company's contact info?\n",
        "user_text = input()\n",
        "start(user_text)"
      ],
      "metadata": {
        "execution": {
          "iopub.status.busy": "2023-11-13T14:08:48.097880Z",
          "iopub.execute_input": "2023-11-13T14:08:48.098266Z",
          "iopub.status.idle": "2023-11-13T14:09:34.376990Z",
          "shell.execute_reply.started": "2023-11-13T14:08:48.098237Z",
          "shell.execute_reply": "2023-11-13T14:09:34.376045Z"
        },
        "trusted": true,
        "id": "SEKm9FHFROFU"
      },
      "execution_count": null,
      "outputs": []
    },
    {
      "cell_type": "code",
      "source": [
        "## What is the company's email?\n",
        "user_text = input()\n",
        "start(user_text)"
      ],
      "metadata": {
        "execution": {
          "iopub.status.busy": "2023-11-13T14:07:29.187465Z",
          "iopub.execute_input": "2023-11-13T14:07:29.188205Z",
          "iopub.status.idle": "2023-11-13T14:08:05.493463Z",
          "shell.execute_reply.started": "2023-11-13T14:07:29.188164Z",
          "shell.execute_reply": "2023-11-13T14:08:05.492396Z"
        },
        "trusted": true,
        "id": "1mYuWCH8ROFV"
      },
      "execution_count": null,
      "outputs": []
    },
    {
      "cell_type": "code",
      "source": [
        "### What is the field of the company?\n",
        "user_text = input()\n",
        "start(user_text)"
      ],
      "metadata": {
        "execution": {
          "iopub.status.busy": "2023-11-13T12:23:01.358736Z",
          "iopub.execute_input": "2023-11-13T12:23:01.359574Z",
          "iopub.status.idle": "2023-11-13T12:23:23.009686Z",
          "shell.execute_reply.started": "2023-11-13T12:23:01.359543Z",
          "shell.execute_reply": "2023-11-13T12:23:23.008738Z"
        },
        "trusted": true,
        "id": "FSftL5tsROFV"
      },
      "execution_count": null,
      "outputs": []
    },
    {
      "cell_type": "code",
      "source": [
        "###  Does the company has products?\n",
        "user_text = input()\n",
        "start(user_text)"
      ],
      "metadata": {
        "execution": {
          "iopub.status.busy": "2023-11-13T12:16:54.446160Z",
          "iopub.execute_input": "2023-11-13T12:16:54.446998Z",
          "iopub.status.idle": "2023-11-13T12:17:53.894230Z",
          "shell.execute_reply.started": "2023-11-13T12:16:54.446964Z",
          "shell.execute_reply": "2023-11-13T12:17:53.893275Z"
        },
        "trusted": true,
        "id": "lSVze4OhROFV"
      },
      "execution_count": null,
      "outputs": []
    },
    {
      "cell_type": "code",
      "source": [
        "## What is the company's aim?\n",
        "user_text = input()\n",
        "start(user_text)"
      ],
      "metadata": {
        "execution": {
          "iopub.status.busy": "2023-11-13T12:23:52.373143Z",
          "iopub.execute_input": "2023-11-13T12:23:52.373936Z",
          "iopub.status.idle": "2023-11-13T12:24:25.062379Z",
          "shell.execute_reply.started": "2023-11-13T12:23:52.373905Z",
          "shell.execute_reply": "2023-11-13T12:24:25.061428Z"
        },
        "trusted": true,
        "id": "9KTOQHPmROFW"
      },
      "execution_count": null,
      "outputs": []
    },
    {
      "cell_type": "code",
      "source": [
        "## What is your organization's long-term vision and how do you envision it making a positive impact on the world?\n",
        "user_text = input()\n",
        "start(user_text)"
      ],
      "metadata": {
        "execution": {
          "iopub.status.busy": "2023-11-13T18:26:32.914396Z",
          "iopub.execute_input": "2023-11-13T18:26:32.914771Z",
          "iopub.status.idle": "2023-11-13T18:27:58.627071Z",
          "shell.execute_reply.started": "2023-11-13T18:26:32.914742Z",
          "shell.execute_reply": "2023-11-13T18:27:58.626051Z"
        },
        "trusted": true,
        "id": "wg7kEcLcROFW"
      },
      "execution_count": null,
      "outputs": []
    },
    {
      "cell_type": "code",
      "source": [
        "## Do you have a product related to chest?\n",
        "user_text = input()\n",
        "start(user_text)"
      ],
      "metadata": {
        "execution": {
          "iopub.status.busy": "2023-11-13T12:26:19.837630Z",
          "iopub.execute_input": "2023-11-13T12:26:19.838398Z",
          "iopub.status.idle": "2023-11-13T12:27:18.170411Z",
          "shell.execute_reply.started": "2023-11-13T12:26:19.838362Z",
          "shell.execute_reply": "2023-11-13T12:27:18.169493Z"
        },
        "trusted": true,
        "id": "hd1VqFiIROFW"
      },
      "execution_count": null,
      "outputs": []
    },
    {
      "cell_type": "code",
      "source": [
        "### Do you have a product related to Breast Cancer?\n",
        "user_text = input()\n",
        "start(user_text)"
      ],
      "metadata": {
        "execution": {
          "iopub.status.busy": "2023-11-13T12:27:42.502895Z",
          "iopub.execute_input": "2023-11-13T12:27:42.503636Z",
          "iopub.status.idle": "2023-11-13T12:28:26.220733Z",
          "shell.execute_reply.started": "2023-11-13T12:27:42.503587Z",
          "shell.execute_reply": "2023-11-13T12:28:26.219722Z"
        },
        "trusted": true,
        "id": "y3Pp2C7lROFW"
      },
      "execution_count": null,
      "outputs": []
    },
    {
      "cell_type": "code",
      "source": [
        "### Do you have a product related to women's health?\n",
        "user_text = input()\n",
        "start(user_text)"
      ],
      "metadata": {
        "execution": {
          "iopub.status.busy": "2023-11-13T12:28:52.081630Z",
          "iopub.execute_input": "2023-11-13T12:28:52.081972Z",
          "iopub.status.idle": "2023-11-13T12:29:39.094995Z",
          "shell.execute_reply.started": "2023-11-13T12:28:52.081949Z",
          "shell.execute_reply": "2023-11-13T12:29:39.094015Z"
        },
        "trusted": true,
        "id": "yERm3PkIROFX"
      },
      "execution_count": null,
      "outputs": []
    },
    {
      "cell_type": "code",
      "source": [
        "### I have a cardiolgy concern, Do you have a product related to cardiolgy?\n",
        "user_text = input()\n",
        "start(user_text)"
      ],
      "metadata": {
        "execution": {
          "iopub.status.busy": "2023-11-13T12:30:08.593958Z",
          "iopub.execute_input": "2023-11-13T12:30:08.594956Z",
          "iopub.status.idle": "2023-11-13T12:30:59.214365Z",
          "shell.execute_reply.started": "2023-11-13T12:30:08.594922Z",
          "shell.execute_reply": "2023-11-13T12:30:59.213436Z"
        },
        "trusted": true,
        "id": "1Q3sfoE3ROFX"
      },
      "execution_count": null,
      "outputs": []
    },
    {
      "cell_type": "code",
      "source": [
        "###  Do you have a product that can help in covid 19 pandemic?\n",
        "user_text = input()\n",
        "start(user_text)"
      ],
      "metadata": {
        "execution": {
          "iopub.status.busy": "2023-11-13T18:25:24.904757Z",
          "iopub.execute_input": "2023-11-13T18:25:24.905427Z",
          "iopub.status.idle": "2023-11-13T18:26:11.954376Z",
          "shell.execute_reply.started": "2023-11-13T18:25:24.905393Z",
          "shell.execute_reply": "2023-11-13T18:26:11.953340Z"
        },
        "trusted": true,
        "id": "E8QmpiarROFe"
      },
      "execution_count": null,
      "outputs": []
    },
    {
      "cell_type": "code",
      "source": [
        "###  Do you have an application to breast cancer disease?\n",
        "user_text = input()\n",
        "start(user_text)"
      ],
      "metadata": {
        "execution": {
          "iopub.status.busy": "2023-11-13T18:18:38.424661Z",
          "iopub.execute_input": "2023-11-13T18:18:38.425466Z",
          "iopub.status.idle": "2023-11-13T18:19:32.558756Z",
          "shell.execute_reply.started": "2023-11-13T18:18:38.425433Z",
          "shell.execute_reply": "2023-11-13T18:19:32.557737Z"
        },
        "trusted": true,
        "id": "rnRsv0BCROFj"
      },
      "execution_count": null,
      "outputs": []
    },
    {
      "cell_type": "code",
      "source": [
        "## Do you have products related to breast cancer or chest diseases?\n",
        "user_text = input()\n",
        "start(user_text)"
      ],
      "metadata": {
        "execution": {
          "iopub.status.busy": "2023-11-13T18:23:06.159868Z",
          "iopub.execute_input": "2023-11-13T18:23:06.160246Z",
          "iopub.status.idle": "2023-11-13T18:24:23.876249Z",
          "shell.execute_reply.started": "2023-11-13T18:23:06.160216Z",
          "shell.execute_reply": "2023-11-13T18:24:23.875149Z"
        },
        "trusted": true,
        "id": "nWnFtLcYROFk"
      },
      "execution_count": null,
      "outputs": []
    },
    {
      "cell_type": "code",
      "source": [
        "user_text = input()\n",
        "start(user_text)"
      ],
      "metadata": {
        "execution": {
          "iopub.status.busy": "2023-11-13T18:41:38.195485Z",
          "iopub.execute_input": "2023-11-13T18:41:38.196164Z",
          "iopub.status.idle": "2023-11-13T18:42:57.067104Z",
          "shell.execute_reply.started": "2023-11-13T18:41:38.196128Z",
          "shell.execute_reply": "2023-11-13T18:42:57.066147Z"
        },
        "trusted": true,
        "id": "MLaH0LP-ROFk"
      },
      "execution_count": null,
      "outputs": []
    },
    {
      "cell_type": "code",
      "source": [],
      "metadata": {
        "id": "s6l0yIYeROFk"
      },
      "execution_count": null,
      "outputs": []
    }
  ]
}